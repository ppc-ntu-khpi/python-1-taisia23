{
  "cells": [
    {
      "cell_type": "markdown",
      "metadata": {
        "id": "hi3Bw62l5tIU"
      },
      "source": [
        "# Списки, кортежі, словники, множини"
      ]
    },
    {
      "cell_type": "markdown",
      "metadata": {
        "id": "y2_-l9Eb5x6t"
      },
      "source": [
        "##  1. Списки\n"
      ]
    },
    {
      "cell_type": "markdown",
      "metadata": {
        "id": "TAKMiaa051Ya"
      },
      "source": [
        "Дано список з результатами вимірювання температури повітря (в градусах Цельсія). Необхідно:\n",
        "  * перевести градуси Цельсія в Фаренгейти\n",
        "  * заокруглити всі значення до одного знаку після коми\n",
        "  * вивести список у зворотному порядку\n",
        "  * вивести кількість елементів в списку\n",
        "\n",
        "Підказка: згадайте захід про Python в ролі калькулятора (або один з прикладів з третьої частини нашої розмови на лекції) та про зрізи (розтини, slising)!"
      ]
    },
    {
      "cell_type": "code",
      "execution_count": 8,
      "metadata": {
        "colab": {
          "base_uri": "https://localhost:8080/"
        },
        "id": "P7EyxdRv5qxH",
        "outputId": "3c1bd49d-7bdf-4628-bbeb-4ef12d90070a"
      },
      "outputs": [
        {
          "name": "stdout",
          "output_type": "stream",
          "text": [
            "30.1C = 86.2F\n",
            "29.0C = 84.2F\n",
            "28.0C = 82.4F\n",
            "25.8C = 78.4F\n",
            "25.0C = 77.0F\n",
            "19.9C = 67.8F\n",
            "19.0C = 66.2F\n",
            "17.6C = 63.7F\n",
            "17.1C = 62.8F\n",
            "15.5C = 59.9F\n",
            "10.0C = 50.0F\n",
            "Всього вимірювань: 11\n"
          ]
        }
      ],
      "source": [
        "C = [10.0, 15.5, 17.1, 17.6, 19.0, 19.9, 25.0, 25.8, 28.0, 29.0, 30.1]\n",
        "\n",
        "# вам треба дописати/змінити цей блок коду\n",
        "for i in C[::-1]:\n",
        "    print(f\"{i}C = {i*(9/5)+32:.1f}F\")\n",
        "# кінець вашого коду\n",
        "\n",
        "print(\"Всього вимірювань:\",len(C))"
      ]
    },
    {
      "cell_type": "markdown",
      "metadata": {
        "id": "_X63dfCf_1A_"
      },
      "source": [
        "## 2. Кортежі"
      ]
    },
    {
      "cell_type": "markdown",
      "metadata": {
        "id": "CpSMbIFB61ls"
      },
      "source": [
        "Дано кортеж, який містить оцінки студента з певної дисципліни. Необхідно перевірити чи має студент двійки чи ні, і вивести відповідні повідомлення."
      ]
    },
    {
      "cell_type": "code",
      "execution_count": 11,
      "metadata": {
        "colab": {
          "base_uri": "https://localhost:8080/"
        },
        "id": "lnCJy9Of8Sn8",
        "outputId": "e5c2dcea-9af9-4921-b8e1-86c94af3bb95"
      },
      "outputs": [
        {
          "name": "stdout",
          "output_type": "stream",
          "text": [
            "Студент має принаймні одну двійку з дисципліни!\n"
          ]
        }
      ],
      "source": [
        "grades = (4, 5, 4, 4, 3, 5, 3, 3, 2, 5, 5, 5)\n",
        "\n",
        "# вам треба дописати/змінити цей блок коду\n",
        "if 2 in grades:\n",
        "# кінець вашого коду\n",
        "\n",
        "  print('Студент має принаймні одну двійку з дисципліни!')\n",
        "else:\n",
        "  print('Студент вчиться без двійок')"
      ]
    },
    {
      "cell_type": "markdown",
      "metadata": {
        "id": "MelnZ73v_4rp"
      },
      "source": [
        "## 3. Словники"
      ]
    },
    {
      "cell_type": "markdown",
      "metadata": {
        "id": "Aeqara6f9OfD"
      },
      "source": [
        "Дано словник, який містить середні оцінки студентів з дисципліни. Необхідно додати всім один бал. Але якщо в результаті додавання виходить значення більше п'яти - поставити 5.0!\n",
        "\n",
        "Підказка: тут зручно використати **тернарний оператор**. Як він виглядає в Python - легко знайти в Google!"
      ]
    },
    {
      "cell_type": "code",
      "execution_count": 14,
      "metadata": {
        "colab": {
          "base_uri": "https://localhost:8080/"
        },
        "id": "4qYr1VTm9O1e",
        "outputId": "f862ee40-5fc2-4d6a-96f9-f376de990c94"
      },
      "outputs": [
        {
          "data": {
            "text/plain": [
              "{'Васильєв': 4.5, 'Семенов': 5.0, 'Петров': 5.0, 'Іванов': 4.0, \"Мар'їн\": 5.0}"
            ]
          },
          "execution_count": 14,
          "metadata": {},
          "output_type": "execute_result"
        }
      ],
      "source": [
        "students = {\"Васильєв\":3.5, \"Семенов\":4.0, \"Петров\":4.5, \"Іванов\":3.0, \"Мар'їн\":5.0}\n",
        "for student in students.keys():\n",
        "  students[student] = students[student] + 1.0 if students[student] + 1.0 < 5.0 else 5.0\n",
        "  # вам треба дописати/змінити цей блок коду\n",
        "  # students.update( ... )\n",
        "  # кінець вашого коду\n",
        "\n",
        "students\n",
        "\n"
      ]
    },
    {
      "cell_type": "markdown",
      "metadata": {
        "id": "jx50JYh3_xUE"
      },
      "source": [
        " ## 4. Множини"
      ]
    },
    {
      "cell_type": "markdown",
      "metadata": {
        "id": "yifoJuwHADu3"
      },
      "source": [
        "Студенти заповнювали анкети, однак, дехто зробив це кілька разів.З використанням множин знайдіть кількість людей, які заповнили анкети."
      ]
    },
    {
      "cell_type": "code",
      "execution_count": 15,
      "metadata": {
        "colab": {
          "base_uri": "https://localhost:8080/"
        },
        "id": "YswmBtmy_x_7",
        "outputId": "97bdd335-01b5-42db-a76b-755acb874559"
      },
      "outputs": [
        {
          "name": "stdout",
          "output_type": "stream",
          "text": [
            "Всього анкет заповнено: 10\n",
            "Всього респондентів: 7\n"
          ]
        }
      ],
      "source": [
        "responces = [\"Іванов\", \"Петров\", \"Сидоров\", \"Васильєв\", \"Семенов\", \"Іванов\", \"Мар'їн\", \"Сидоров\", \"Дмитрієв\", \"Іванов\"]\n",
        "print(\"Всього анкет заповнено:\",len(responces))\n",
        "\n",
        "# вам треба дописати/змінити цей блок коду\n",
        "respondents = set(responces)\n",
        "# кінець вашого коду\n",
        "\n",
        "print(\"Всього респондентів:\",len(respondents))"
      ]
    }
  ],
  "metadata": {
    "colab": {
      "collapsed_sections": [],
      "name": "3_Контейнери",
      "provenance": [],
      "toc_visible": true
    },
    "kernelspec": {
      "display_name": "Python 3",
      "name": "python3"
    },
    "language_info": {
      "codemirror_mode": {
        "name": "ipython",
        "version": 3
      },
      "file_extension": ".py",
      "mimetype": "text/x-python",
      "name": "python",
      "nbconvert_exporter": "python",
      "pygments_lexer": "ipython3",
      "version": "3.10.8"
    }
  },
  "nbformat": 4,
  "nbformat_minor": 0
}
